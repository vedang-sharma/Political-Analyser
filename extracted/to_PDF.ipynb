{
 "cells": [
  {
   "cell_type": "code",
   "execution_count": 1,
   "id": "1d291cb2",
   "metadata": {},
   "outputs": [],
   "source": [
    "from pdfminer.high_level import extract_text"
   ]
  },
  {
   "cell_type": "code",
   "execution_count": 2,
   "id": "26ddec87",
   "metadata": {},
   "outputs": [],
   "source": [
    "text = extract_text('sample.pdf')"
   ]
  },
  {
   "cell_type": "code",
   "execution_count": 3,
   "id": "76e88ad7",
   "metadata": {},
   "outputs": [],
   "source": [
    "import re"
   ]
  },
  {
   "cell_type": "code",
   "execution_count": 4,
   "id": "0c5a4312",
   "metadata": {},
   "outputs": [],
   "source": [
    "clean_text = re.sub('\\n', ' ', text)"
   ]
  },
  {
   "cell_type": "code",
   "execution_count": 5,
   "id": "5391ef4d",
   "metadata": {},
   "outputs": [],
   "source": [
    "header = '\\d{4}.\\w*.{2}\\w* • \\d*|\\d{2} • \\d{4} \\w*.{2}\\w*'"
   ]
  },
  {
   "cell_type": "code",
   "execution_count": 6,
   "id": "13d16efb",
   "metadata": {},
   "outputs": [],
   "source": [
    "import numpy as np"
   ]
  },
  {
   "cell_type": "code",
   "execution_count": 7,
   "id": "30fc745b",
   "metadata": {},
   "outputs": [],
   "source": [
    "page_nums = np.arange(1, 71)"
   ]
  },
  {
   "cell_type": "code",
   "execution_count": 8,
   "id": "64d36489",
   "metadata": {},
   "outputs": [],
   "source": [
    "for i in page_nums:\n",
    "    clean_text_2 = re.sub(header, ' ', clean_text)"
   ]
  },
  {
   "cell_type": "code",
   "execution_count": 9,
   "id": "e916cf7d",
   "metadata": {},
   "outputs": [],
   "source": [
    "clean_text_3 = re.sub('\\s{2,}', ' ', clean_text_2)"
   ]
  },
  {
   "cell_type": "code",
   "execution_count": 10,
   "id": "9b1bd457",
   "metadata": {},
   "outputs": [],
   "source": [
    "footer = 'Untitled\\S*.\\S*.\\S*.\\S*.PM'"
   ]
  },
  {
   "cell_type": "code",
   "execution_count": 11,
   "id": "9e2997d6",
   "metadata": {},
   "outputs": [],
   "source": [
    "clean_text_4 = re.sub(footer, ' ', clean_text_3)"
   ]
  },
  {
   "cell_type": "code",
   "execution_count": 12,
   "id": "df26386a",
   "metadata": {},
   "outputs": [],
   "source": [
    "import nltk"
   ]
  },
  {
   "cell_type": "code",
   "execution_count": 13,
   "id": "6a8b5b39",
   "metadata": {},
   "outputs": [],
   "source": [
    "clean_text_5 = re.sub('\\s\\d{1,2}\\.\\s', ' ', clean_text_4)"
   ]
  },
  {
   "cell_type": "code",
   "execution_count": 16,
   "id": "fb2023df",
   "metadata": {},
   "outputs": [],
   "source": [
    "ct = re.sub('Rs\\.', '₹', clean_text_5)"
   ]
  },
  {
   "cell_type": "code",
   "execution_count": 17,
   "id": "718465f8",
   "metadata": {},
   "outputs": [],
   "source": [
    "sentences = nltk.sent_tokenize(ct)"
   ]
  },
  {
   "cell_type": "code",
   "execution_count": 18,
   "id": "6b12d892",
   "metadata": {},
   "outputs": [],
   "source": [
    "with open('20041.xml', 'w+', encoding = 'utf-8', errors = 'ignore') as file_obj:\n",
    "    for i in sentences:\n",
    "        file_obj.write('\\n')\n",
    "        file_obj.write(i)"
   ]
  }
 ],
 "metadata": {
  "kernelspec": {
   "display_name": "Python 3 (ipykernel)",
   "language": "python",
   "name": "python3"
  },
  "language_info": {
   "codemirror_mode": {
    "name": "ipython",
    "version": 3
   },
   "file_extension": ".py",
   "mimetype": "text/x-python",
   "name": "python",
   "nbconvert_exporter": "python",
   "pygments_lexer": "ipython3",
   "version": "3.10.5"
  }
 },
 "nbformat": 4,
 "nbformat_minor": 5
}
