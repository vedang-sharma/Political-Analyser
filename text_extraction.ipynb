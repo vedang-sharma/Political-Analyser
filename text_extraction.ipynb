{
 "cells": [
  {
   "cell_type": "code",
   "execution_count": 1,
   "id": "6d7143cd",
   "metadata": {
    "id": "6d7143cd",
    "scrolled": true
   },
   "outputs": [],
   "source": [
    "from pdfminer.high_level import extract_text\n",
    "import numpy as np\n",
    "import re\n",
    "import nltk\n",
    "import pandas as pd"
   ]
  },
  {
   "cell_type": "code",
   "execution_count": 12,
   "id": "91rydQGJXHL9",
   "metadata": {
    "id": "91rydQGJXHL9",
    "scrolled": false
   },
   "outputs": [],
   "source": [
    "#Extracting sentences from BJP Manifesto\n",
    "year = ['1984', '1989', '1991', '1996', '1998', '1999', '2004', '2009', '2014']\n",
    "for i in year:\n",
    "    name = 'BJP'+i+'.pdf'\n",
    "    text = extract_text('data/pdf/'+name)\n",
    "    \n",
    "    clean_text = re.sub('\\n', ' ', text) #Removing '\\n'(newline) character with ' '(space).\n",
    "    \n",
    "    header = '\\d{4}.\\w*.{2}\\w* • \\d*|\\d{2} • \\d{4} \\w*.{2}\\w*' #Regex for Header\n",
    "    footer = 'Untitled\\S*.\\S*.\\S*.\\S*.PM' #Regex for Header\n",
    "    \n",
    "    clean_text = re.sub(header, ' ', clean_text) #Replacing Header with ' '(space).\n",
    "    clean_text = re.sub('\\s{2,}', ' ', clean_text)\n",
    "    clean_text = re.sub(footer, ' ', clean_text) #Replacing Footer with ' '(space).\n",
    "    clean_text = re.sub('\\s\\d{1,2}\\.\\s', ' ', clean_text) #Consolidating bullet points\n",
    "    clean_text = re.sub('Rs\\.', '₹', clean_text) #Replacing Rupess(Rs.) with '₹' symbol\n",
    "    \n",
    "    sentences = nltk.sent_tokenize(clean_text) #Tokenizing the formatted PDF\n",
    "    df = pd.DataFrame(sentences) \n",
    "    \n",
    "    name = name[:-4]+'.csv'\n",
    "    df.to_csv(name) #Storing the data in a CSV file"
   ]
  },
  {
   "cell_type": "code",
   "execution_count": 13,
   "id": "97119bf2",
   "metadata": {},
   "outputs": [],
   "source": [
    "#Extracting sentence data for Congress\n",
    "year = ['1999', '2004', '2009', '2014', '2019']\n",
    "\n",
    "for i in year:\n",
    "    name = 'C'+i+'.pdf'\n",
    "    text = extract_text('data/pdf/'+name)\n",
    "    \n",
    "    clean_text = re.sub('\\n', ' ', text)\n",
    "    \n",
    "    header = '\\d{4}.\\w*.{2}\\w* • \\d*|\\d{2} • \\d{4} \\w*.{2}\\w*'\n",
    "    footer = 'Untitled\\S*.\\S*.\\S*.\\S*.PM'\n",
    "    \n",
    "    clean_text = re.sub(header, ' ', clean_text)\n",
    "    clean_text = re.sub('\\s{2,}', ' ', clean_text)\n",
    "    clean_text = re.sub(footer, ' ', clean_text)\n",
    "    clean_text = re.sub('\\s\\d{1,2}\\.\\s', ' ', clean_text)\n",
    "    clean_text = re.sub('Rs\\.', '₹', clean_text)\n",
    "    \n",
    "    sentences = nltk.sent_tokenize(clean_text)\n",
    "    df = pd.DataFrame(sentences)\n",
    "    \n",
    "    name = name[:-4]+'.csv'\n",
    "    df.to_csv(name)"
   ]
  }
 ],
 "metadata": {
  "colab": {
   "collapsed_sections": [],
   "name": "to_PDF.ipynb",
   "provenance": []
  },
  "kernelspec": {
   "display_name": "Python 3 (ipykernel)",
   "language": "python",
   "name": "python3"
  },
  "language_info": {
   "codemirror_mode": {
    "name": "ipython",
    "version": 3
   },
   "file_extension": ".py",
   "mimetype": "text/x-python",
   "name": "python",
   "nbconvert_exporter": "python",
   "pygments_lexer": "ipython3",
   "version": "3.10.5"
  }
 },
 "nbformat": 4,
 "nbformat_minor": 5
}
